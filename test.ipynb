{
 "cells": [
  {
   "cell_type": "code",
   "execution_count": 1,
   "metadata": {},
   "outputs": [],
   "source": [
    "import openai\n",
    "import numpy as np\n",
    "import pandas as pd"
   ]
  },
  {
   "cell_type": "code",
   "execution_count": 2,
   "metadata": {},
   "outputs": [],
   "source": [
    "import transformers\n",
    "import copy\n",
    "import logging\n",
    "from dataclasses import dataclass, field\n",
    "from typing import Dict, Optional, Sequence"
   ]
  },
  {
   "cell_type": "code",
   "execution_count": 3,
   "metadata": {},
   "outputs": [],
   "source": [
    "import utils\n",
    "import re"
   ]
  },
  {
   "cell_type": "code",
   "execution_count": 4,
   "metadata": {},
   "outputs": [
    {
     "data": {
      "text/plain": [
       "(0, 0)"
      ]
     },
     "execution_count": 4,
     "metadata": {},
     "output_type": "execute_result"
    }
   ],
   "source": [
    "# Example usage\n",
    "input_file = 'humansai-data.txt'\n",
    "\n",
    "max_buffer_size = 1000000  # 1MB\n",
    "\n",
    "context = utils.accumulate_lines(input_file, 'context', max_buffer_size)\n",
    "questions = utils.accumulate_lines(input_file, 'questions', max_buffer_size)\n",
    "\n",
    "context, questions = (context,questions) if max_buffer_size else (utils.parse2py(context), utils.parse2py(questions))\n",
    "context, questions"
   ]
  },
  {
   "cell_type": "code",
   "execution_count": 5,
   "metadata": {},
   "outputs": [
    {
     "data": {
      "text/plain": [
       "([{'title': 'HEART Description',\n",
       "   'url': 'Portfolio Data',\n",
       "   'content': 'Humans.ai is a next generation blockchain platform that brings together an ecosystem of stakeholders around the use of AI to create at scale.'},\n",
       "  {'title': 'HEART Total Supply',\n",
       "   'url': 'Portfolio Data',\n",
       "   'content': 'TOTAL SUPPLY: 7800000000'},\n",
       "  {'title': 'HEART Coins Owned',\n",
       "   'url': 'Portfolio Data',\n",
       "   'content': 'AMOUNT OF COINS OWNED: 3256123'},\n",
       "  {'title': 'HEART Maximum Supply',\n",
       "   'url': 'Portfolio Data',\n",
       "   'content': 'MAX SUPPLY: 7800000000'},\n",
       "  {'title': 'HEART Circulating Supply',\n",
       "   'url': 'Portfolio Data',\n",
       "   'content': 'CIRCULATING SUPPLY: 4317300000'},\n",
       "  {'title': 'HEART Current Price',\n",
       "   'url': \"Today's data\",\n",
       "   'content': 'PRICE PER COIN: 0.0149425$'},\n",
       "  {'title': 'HEART 24h Price Change',\n",
       "   'url': \"Today's data\",\n",
       "   'content': '24h PRICE CHANGE: HEART had a movement of -3.31874%'},\n",
       "  {'title': 'HEART 24h High',\n",
       "   'url': \"Today's data\",\n",
       "   'content': '24H TIME HIGH: HEART has had a 24 hour high of 0.01545543 USD'},\n",
       "  {'title': 'HEART 24h Low',\n",
       "   'url': \"Today's data\",\n",
       "   'content': '24H TIME LOW: HEART has had a 24 hour low of 0.0148992 USD'},\n",
       "  {'title': 'HEART All-Time High',\n",
       "   'url': \"Today's data\",\n",
       "   'content': 'ALL TIME HIGH / ATH : HEART had an all time high value of 0.278557 USD on 2021-12-26T18:32:54.961Z'},\n",
       "  {'title': 'HEART All-Time Low',\n",
       "   'url': \"Today's data\",\n",
       "   'content': 'ALL TIME LOW / ATL : HEART had an all time low value of 0.00370636 USD on 2022-12-18T06:41:04.832Z'},\n",
       "  {'title': 'HEART Market Rank',\n",
       "   'url': \"Today's data\",\n",
       "   'content': 'RANK: HEART has the rank 4091'},\n",
       "  {'title': 'HEART Community Score',\n",
       "   'url': \"Today's data\",\n",
       "   'content': 'Community Score: 9.041'},\n",
       "  {'title': 'HEART Liquidity Score',\n",
       "   'url': \"Today's data\",\n",
       "   'content': 'Liquidity Score: 17.008'},\n",
       "  {'title': 'HEART Twitter Followers',\n",
       "   'url': 'Social data',\n",
       "   'content': 'Twitter Followers: 48381'},\n",
       "  {'title': 'HEART Reddit Subscribers',\n",
       "   'url': 'Social data',\n",
       "   'content': 'Reddit Subscribers: 0'},\n",
       "  {'title': 'HEART Facebook Likes',\n",
       "   'url': 'Social data',\n",
       "   'content': 'Facebook Likes: 0'},\n",
       "  {'title': 'HEART Telegram Users',\n",
       "   'url': 'Social data',\n",
       "   'content': 'Telegram Users: 10890'},\n",
       "  {'title': 'Recent News about Photoshop',\n",
       "   'url': 'https://cryptopanic.com/news/18601696/IndustryNews-Experience-the-Future-of-Photoshop-with-Generative-Fill',\n",
       "   'content': 'Title: #IndustryNewsExperience the Future of @Photoshop with Generative Fill'},\n",
       "  {'title': 'News about Robert Gherghe, Head of Content',\n",
       "   'url': 'https://cryptopanic.com/news/18596364/16-If-its-Friday-its-meet-the-HumansTeam-Meet-Robert-Gherghe-our-Head-of-Content-at',\n",
       "   'content': \"Title: 1/6If it's Friday, it's meet the #HumansTeam!Meet Robert Gherghe, our Head of Content at\"},\n",
       "  {'title': \"News about CEO's Live Demo\",\n",
       "   'url': 'https://cryptopanic.com/news/18587558/12-Dont-Miss-Out-Watch-our-CEOs-Live-Demo-on-PowerHasheurs-Twitch-Channel-Humans-if-you-didnt-catch',\n",
       "   'content': \"Title: 1/2 Don't Miss Out! Watch our CEO's Live Demo on @PowerHasheur's Twitch Channel!Humans, if you didn't catch…\"},\n",
       "  {'title': 'HEART Community Discord Discussion',\n",
       "   'url': 'Community Chat',\n",
       "   'content': 'Various user messages from Discord/Telegram chat'},\n",
       "  {'title': 'The Purpose of Blockchain in HEART',\n",
       "   'url': 'Portfolio Data',\n",
       "   'content': 'The synthetic media, AI apps, and other digital assets utilize blockchain technology to generate Non-Fungible Tokens (NFTs)'},\n",
       "  {'title': 'The Transparency of HEART',\n",
       "   'url': 'Portfolio Data',\n",
       "   'content': 'Non-Fungible Tokens (NFTs) as a way of creating transparency, provenance, accountability, and long-term governance.'},\n",
       "  {'title': 'Use of HEART',\n",
       "   'url': 'Portfolio Data',\n",
       "   'content': 'Individuals are empowered to create and own their digital likenesses, which may be used by themselves and others in the creation of any number of digital assets.'},\n",
       "  {'title': 'The uniqueness of HEART',\n",
       "   'url': 'Portfolio Data',\n",
       "   'content': 'It combines a library of AI tools into a creative studio suite where users will be able to pick and choose as they bring their ideas to life.'},\n",
       "  {'title': 'Recent Significant Changes in HEART',\n",
       "   'url': \"Today's data\",\n",
       "   'content': 'HEART had a movement of -3.31874% with a value of -0.000512925501390087'},\n",
       "  {'title': 'Potential Future Changes in HEART',\n",
       "   'url': \"Today's data / Social data\",\n",
       "   'content': 'Various factors such as market conditions, community sentiment, project developments, etc.'},\n",
       "  {'title': 'Recent HEART Volatility',\n",
       "   'url': \"Today's data\",\n",
       "   'content': '24H TIME HIGH: HEART has had a 24 hour high of 0.01545543 USD, 24H TIME LOW: HEART has had a 24 hour low of 0.0148992 USD'},\n",
       "  {'title': 'HEART Historical Performance',\n",
       "   'url': \"Today's data\",\n",
       "   'content': 'ALL TIME HIGH / ATH : HEART had an all time high value of 0.278557 USD, ALL TIME LOW / ATL : HEART had an all time low value of 0.00370636 USD'},\n",
       "  {'title': \"HEART's Influence on Social Media\",\n",
       "   'url': 'Social data',\n",
       "   'content': 'Twitter Followers: 48381, Reddit Subscribers: 0, Facebook Likes: 0, Telegram Users: 10890'},\n",
       "  {'title': 'Recent News Impact on HEART',\n",
       "   'url': 'https://cryptopanic.com/news/18601696/IndustryNews-Experience-the-Future-of-Photoshop-with-Generative-Fill',\n",
       "   'content': 'This news may have influence on the HEART community, depending on how they perceive the content.'}],\n",
       " ['Can you describe the mission of the HEART blockchain platform?',\n",
       "  'What is the total supply of the HEART cryptocurrency?',\n",
       "  'How many HEART coins do I currently own in my portfolio?',\n",
       "  'What was the maximum supply of HEART at the time of its launch?',\n",
       "  'What is the current circulating supply of HEART?',\n",
       "  'Can you provide me with the current market price of a single HEART coin?',\n",
       "  'How much has the price of the HEART coin changed in the past 24 hours?',\n",
       "  'What was the highest price of the HEART coin in the last 24 hours?',\n",
       "  'What was the lowest price of the HEART coin in the last 24 hours?',\n",
       "  'When did HEART hit its all-time high price, and what was it?',\n",
       "  'When did HEART hit its all-time low price, and what was it?',\n",
       "  'What is the current market rank of HEART?',\n",
       "  'What is the community score of HEART?',\n",
       "  'What is the liquidity score of HEART?',\n",
       "  'How many Twitter followers does HEART have?',\n",
       "  'How many Reddit subscribers does HEART have?',\n",
       "  'How many Facebook likes does HEART have?',\n",
       "  'How many Telegram users does HEART have?',\n",
       "  'Can you provide a summary of the recent news about the future of Photoshop and its relevance to HEART?',\n",
       "  \"Who is Robert Gherghe and what is his role in HEART's ecosystem?\",\n",
       "  \"Can you provide a summary of the CEO's live demo mentioned in the recent news?\",\n",
       "  'What do the recent social announcements imply for the future of HEART?',\n",
       "  'Can you provide me with any confirmed technical indicators for HEART?',\n",
       "  'Who are some notable figures in the HEART community chat on Discord/Telegram?',\n",
       "  'What was the recent issue discussed in the HEART community chat and how was it resolved?',\n",
       "  'Are there any noteworthy events or updates from the HEART community chat?',\n",
       "  'How did the community react to the recent news of the live demo by the CEO?',\n",
       "  'How is the community discussion shaping the development and perception of the HEART project?',\n",
       "  'What video was recently shared in the HEART community and what does it cover?',\n",
       "  'What were some of the topics discussed in the community chat this morning?',\n",
       "  'What is the staking update discussed in the community chat?',\n",
       "  'Can you provide a summary of the recent Twitter post by @cryptoaceyt about HEART?',\n",
       "  'What was the suggestion made by AleexRaddu regarding staking on the Mainnet?',\n",
       "  'What is the confusion mentioned by Eduard in the community chat about staking?',\n",
       "  'What is the proposed solution for the staking issue mentioned in the community chat?',\n",
       "  \"Are there any concerns or issues raised by the community regarding the platform's functionality?\",\n",
       "  \"How is the team addressing the community's concerns and suggestions?\",\n",
       "  'What is the current sentiment in the community regarding the future of the HEART project?',\n",
       "  'What is the level of community involvement in the development and decision-making of the HEART project?',\n",
       "  'What was the conversation between Exalare and AndreeaZenya about in the community chat?',\n",
       "  'Is there any important upcoming event for HEART mentioned in the community chat?',\n",
       "  'What is the recent update shared by AndreeaZenya in the community chat?',\n",
       "  'What are the main takeaways from the recent HEART community chat?',\n",
       "  'How is the community chat influencing the strategic decisions of the HEART project?',\n",
       "  'What is the market sentiment about HEART based on the community chat?',\n",
       "  'Has there been any negative news about HEART recently?',\n",
       "  'What are the most exciting recent developments in the HEART project?',\n",
       "  'Are there any recent collaborations or partnerships involving HEART?',\n",
       "  'What is the potential impact of the recent HEART news on its market performance?',\n",
       "  'Based on the community chat and recent news, what is the overall future outlook for HEART?'])"
      ]
     },
     "execution_count": 5,
     "metadata": {},
     "output_type": "execute_result"
    }
   ],
   "source": [
    "context = utils.varload('context.txt')\n",
    "questions = utils.varload('questions.txt')\n",
    "context, questions"
   ]
  },
  {
   "cell_type": "code",
   "execution_count": 6,
   "metadata": {},
   "outputs": [],
   "source": [
    "heart_instructions = utils.heart2jinst(context, questions)\n",
    "utils.jdump(heart_instructions, 'heart_data.json')\n"
   ]
  },
  {
   "cell_type": "code",
   "execution_count": 7,
   "metadata": {},
   "outputs": [
    {
     "data": {
      "text/plain": [
       "0.3046875"
      ]
     },
     "execution_count": 7,
     "metadata": {},
     "output_type": "execute_result"
    }
   ],
   "source": [
    "import sys\n",
    "sys.getsizeof(context)/1024"
   ]
  },
  {
   "cell_type": "code",
   "execution_count": null,
   "metadata": {},
   "outputs": [],
   "source": []
  }
 ],
 "metadata": {
  "kernelspec": {
   "display_name": "Python 3",
   "language": "python",
   "name": "python3"
  },
  "language_info": {
   "codemirror_mode": {
    "name": "ipython",
    "version": 3
   },
   "file_extension": ".py",
   "mimetype": "text/x-python",
   "name": "python",
   "nbconvert_exporter": "python",
   "pygments_lexer": "ipython3",
   "version": "3.10.8"
  },
  "orig_nbformat": 4
 },
 "nbformat": 4,
 "nbformat_minor": 2
}
